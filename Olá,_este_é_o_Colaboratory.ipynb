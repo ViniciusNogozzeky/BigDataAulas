{
  "cells": [
    {
      "cell_type": "markdown",
      "metadata": {
        "id": "view-in-github",
        "colab_type": "text"
      },
      "source": [
        "<a href=\"https://colab.research.google.com/github/ViniciusNogozzeky/BigDataAulas/blob/main/Ol%C3%A1%2C_este_%C3%A9_o_Colaboratory.ipynb\" target=\"_parent\"><img src=\"https://colab.research.google.com/assets/colab-badge.svg\" alt=\"Open In Colab\"/></a>"
      ]
    },
    {
      "cell_type": "markdown",
      "source": [
        "INSTALAÇÃO DE SPARK\n"
      ],
      "metadata": {
        "id": "0dGd1i1g6w6p"
      }
    },
    {
      "cell_type": "code",
      "source": [
        "!pip install pyspark\n"
      ],
      "metadata": {
        "id": "AhXcBN_b4bnp",
        "outputId": "e929ba53-d912-480d-9c17-2f3b6874d11f",
        "colab": {
          "base_uri": "https://localhost:8080/"
        }
      },
      "execution_count": 1,
      "outputs": [
        {
          "output_type": "stream",
          "name": "stdout",
          "text": [
            "Looking in indexes: https://pypi.org/simple, https://us-python.pkg.dev/colab-wheels/public/simple/\n",
            "Collecting pyspark\n",
            "  Downloading pyspark-3.3.1.tar.gz (281.4 MB)\n",
            "\u001b[K     |████████████████████████████████| 281.4 MB 44 kB/s \n",
            "\u001b[?25hCollecting py4j==0.10.9.5\n",
            "  Downloading py4j-0.10.9.5-py2.py3-none-any.whl (199 kB)\n",
            "\u001b[K     |████████████████████████████████| 199 kB 58.5 MB/s \n",
            "\u001b[?25hBuilding wheels for collected packages: pyspark\n",
            "  Building wheel for pyspark (setup.py) ... \u001b[?25l\u001b[?25hdone\n",
            "  Created wheel for pyspark: filename=pyspark-3.3.1-py2.py3-none-any.whl size=281845513 sha256=76da384ac51ee084777272f68176239c0d3a6d7f712e6e8e83537c6340338c1b\n",
            "  Stored in directory: /root/.cache/pip/wheels/42/59/f5/79a5bf931714dcd201b26025347785f087370a10a3329a899c\n",
            "Successfully built pyspark\n",
            "Installing collected packages: py4j, pyspark\n",
            "Successfully installed py4j-0.10.9.5 pyspark-3.3.1\n"
          ]
        }
      ]
    },
    {
      "cell_type": "code",
      "source": [
        "#Importar bibliotecas\n",
        "import pyspark\n",
        "from pyspark.sql import SparkSession"
      ],
      "metadata": {
        "id": "LcvKzhf7407t"
      },
      "execution_count": 2,
      "outputs": []
    },
    {
      "cell_type": "code",
      "source": [
        "#Criação de uma sessão Spark(caso ela não exista) ou recuperação de uma \n",
        "#sessão existente com o mesmo nome\n",
        "spark = SparkSession.builder.appName(\"Airports session\").master('local[*]').getOrCreate()\n",
        "#Criação do contexto\n",
        "sc = spark.sparkContext"
      ],
      "metadata": {
        "id": "uQlijbEn9moo"
      },
      "execution_count": 3,
      "outputs": []
    },
    {
      "cell_type": "code",
      "source": [
        "#Criação de um RDD que carrega o arquivo Airports.csv\n",
        "rdd = sc.textFile(\"Airports.csv\")"
      ],
      "metadata": {
        "id": "A0VwOldG90_3"
      },
      "execution_count": 4,
      "outputs": []
    },
    {
      "cell_type": "markdown",
      "source": [
        "EXERCÍCIO EM SALA\n",
        "Semana 15 big-data\n"
      ],
      "metadata": {
        "id": "HgrEaysHOf_p"
      }
    },
    {
      "cell_type": "code",
      "source": [
        "rdd.collect()"
      ],
      "metadata": {
        "id": "EYK7ZnkROjQB"
      },
      "execution_count": null,
      "outputs": []
    },
    {
      "cell_type": "code",
      "source": [
        "#Ignorar o cabeçalho\n",
        "rdd = rdd.filter(lambda x:x.split(\",\")[0]!=\"icao_code\")\n",
        "rdd.collect()"
      ],
      "metadata": {
        "id": "Vt7GPKF5OtJq"
      },
      "execution_count": null,
      "outputs": []
    },
    {
      "cell_type": "code",
      "source": [
        "PairRdd = rdd.map(lambda x:(x.split(\",\")[2],x.split(\",\")[3]))\n",
        "PairRdd.collect()"
      ],
      "metadata": {
        "id": "jbpzOLDTO9tQ"
      },
      "execution_count": null,
      "outputs": []
    },
    {
      "cell_type": "code",
      "source": [
        "paris = PairRdd.filter(lambda x:x[1] == \"PARIS\")\n",
        "paris.collect()"
      ],
      "metadata": {
        "id": "uGcyi5Z7RJv6"
      },
      "execution_count": null,
      "outputs": []
    },
    {
      "cell_type": "code",
      "source": [
        "capitalize = paris.map(lambda x:(x[0],x[1].capitalize()))\n",
        "capitalize.collect()"
      ],
      "metadata": {
        "id": "KfFkimEaTBJb"
      },
      "execution_count": null,
      "outputs": []
    },
    {
      "cell_type": "code",
      "source": [
        "capitalize_sorted = capitalize.sortByKey(ascending=True)\n",
        "capitalize_sorted.collect()"
      ],
      "metadata": {
        "id": "DElQqWIKUvhm"
      },
      "execution_count": null,
      "outputs": []
    },
    {
      "cell_type": "code",
      "source": [
        "capitalize_sorted.coalesce(1).saveAsTextFile(\"AiportParis.txt\")"
      ],
      "metadata": {
        "id": "qj09E2T8Vce6"
      },
      "execution_count": 50,
      "outputs": []
    },
    {
      "cell_type": "markdown",
      "source": [
        "Semana 12 atividades\n"
      ],
      "metadata": {
        "id": "O9-NYKKuO7GZ"
      }
    },
    {
      "cell_type": "code",
      "source": [
        "#Tarefa 1\n",
        "#Encontrar todos os aeroportos do Brasil com latitude > 25\n",
        "#e salvar em um único arquivo após converter as linhas para letras minusculas\n",
        "rdd = rdd.filter(lambda x:x.split(\",\")[0]!=\"icao_code\")\n",
        "\n",
        "\n",
        "brasil = rdd.filter(lambda x:x.split(\",\")[4] == \"BRAZIL\")\n",
        "brasil.count()"
      ],
      "metadata": {
        "id": "6WSvE86vU0Ab",
        "outputId": "80d6ac85-3732-4272-9634-540831229ca2",
        "colab": {
          "base_uri": "https://localhost:8080/"
        }
      },
      "execution_count": null,
      "outputs": [
        {
          "output_type": "execute_result",
          "data": {
            "text/plain": [
              "142"
            ]
          },
          "metadata": {},
          "execution_count": 40
        }
      ]
    },
    {
      "cell_type": "code",
      "source": [
        "brasil_lat25 = brasil.filter(lambda x:float(x.split(\",\")[5]) > 25)\n",
        "brasil_lat25.take(5)"
      ],
      "metadata": {
        "id": "TbH_-xjvZ6-Z"
      },
      "execution_count": null,
      "outputs": []
    },
    {
      "cell_type": "code",
      "source": [
        "#Tarefa 2\n",
        "#Calcular a latitude média de todos os aeroportos brasileiros\n",
        "rdd_final = brasil_lat25.map(lambda x:x.lower())\n",
        "rdd_final.take(5)"
      ],
      "metadata": {
        "id": "VvJsUxklVNs6"
      },
      "execution_count": null,
      "outputs": []
    },
    {
      "cell_type": "code",
      "source": [
        "rdd_final.coalesce(1).saveAsTextFile(\"Brazil_airports_lat25.txt\")"
      ],
      "metadata": {
        "id": "nbWx21hYa_mm"
      },
      "execution_count": null,
      "outputs": []
    },
    {
      "cell_type": "markdown",
      "source": [
        "Calcular a latitude média de todos os airports do Brasil\n"
      ],
      "metadata": {
        "id": "MmhPtyzIb3JR"
      }
    },
    {
      "cell_type": "code",
      "source": [
        "brasil_latitude = brasil.map(lambda x:float(x.split(\",\")[5]))\n",
        "brasil_latitude.take(5)"
      ],
      "metadata": {
        "id": "UeHlzwGFciQj",
        "outputId": "a186a9fa-2e7f-4690-84db-dc49c0f5b1bd",
        "colab": {
          "base_uri": "https://localhost:8080/"
        }
      },
      "execution_count": null,
      "outputs": [
        {
          "output_type": "execute_result",
          "data": {
            "text/plain": [
              "[29.0, 8.0, 22.0, 2.0, 21.0]"
            ]
          },
          "metadata": {},
          "execution_count": 74
        }
      ]
    },
    {
      "cell_type": "code",
      "source": [
        "soma_latitude = brasil_latitude.reduce(lambda x,y: x+ y)\n",
        "print(soma_latitude)"
      ],
      "metadata": {
        "id": "fjG0zpbSdd1B",
        "outputId": "c44dbc22-0f90-471d-804f-e821abebfd4d",
        "colab": {
          "base_uri": "https://localhost:8080/"
        }
      },
      "execution_count": null,
      "outputs": [
        {
          "output_type": "stream",
          "name": "stdout",
          "text": [
            "1962.0\n"
          ]
        }
      ]
    },
    {
      "cell_type": "code",
      "source": [
        "media = soma_latitude / brasil_latitude.count()\n",
        "print(f'{media:.2f}')"
      ],
      "metadata": {
        "id": "w56KWFCPfZR4"
      },
      "execution_count": null,
      "outputs": []
    },
    {
      "cell_type": "markdown",
      "source": [
        " Find the airport (from any country) with higher latitude"
      ],
      "metadata": {
        "id": "Hffal7bxiCgf"
      }
    },
    {
      "cell_type": "code",
      "source": [
        "#Ignorar o cabeçalho\n",
        "rdd = rdd.filter(lambda x:x.split(\",\")[0]!=\"icao_code\")"
      ],
      "metadata": {
        "id": "BypmaTNGiHZ9"
      },
      "execution_count": null,
      "outputs": []
    },
    {
      "cell_type": "code",
      "source": [
        "#Obter somente as latitudes\n",
        "latitude_geral = rdd.map(lambda x:float(x.split(\",\")[5]))\n",
        "latitude_geral.collect()"
      ],
      "metadata": {
        "id": "-r9E41ctiQmp"
      },
      "execution_count": null,
      "outputs": []
    },
    {
      "cell_type": "code",
      "source": [
        "#Buscar maior latitude\n",
        "maior_latitude = latitude_geral.reduce(lambda x,y : x if x > y  else y)\n",
        "print(maior_latitude)"
      ],
      "metadata": {
        "id": "S3VVcxafi-L2",
        "outputId": "fb30838e-6f8c-472d-a2c9-2ac356eb33b2",
        "colab": {
          "base_uri": "https://localhost:8080/"
        }
      },
      "execution_count": null,
      "outputs": [
        {
          "output_type": "stream",
          "name": "stdout",
          "text": [
            "89.0\n"
          ]
        }
      ]
    },
    {
      "cell_type": "code",
      "source": [
        "#Buscar o aeroporto com maior latitude obtida no passo anterior\n",
        "maior_latitude_geral_aeroporto = rdd.filter(lambda x:float(x.split(\",\")[5]) == maior_latitude)\n",
        "maior_latitude_geral_aeroporto.collect()\n"
      ],
      "metadata": {
        "id": "DoO3ofn4jN7c"
      },
      "execution_count": null,
      "outputs": []
    }
  ],
  "metadata": {
    "colab": {
      "collapsed_sections": [],
      "name": "Olá, este é o Colaboratory",
      "provenance": [],
      "include_colab_link": true
    },
    "kernelspec": {
      "display_name": "Python 3",
      "name": "python3"
    }
  },
  "nbformat": 4,
  "nbformat_minor": 0
}