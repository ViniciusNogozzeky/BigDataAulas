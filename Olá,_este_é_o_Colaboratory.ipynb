{
  "cells": [
    {
      "cell_type": "markdown",
      "metadata": {
        "id": "view-in-github",
        "colab_type": "text"
      },
      "source": [
        "<a href=\"https://colab.research.google.com/github/ViniciusNogozzeky/BigDataAulas/blob/main/Ol%C3%A1%2C_este_%C3%A9_o_Colaboratory.ipynb\" target=\"_parent\"><img src=\"https://colab.research.google.com/assets/colab-badge.svg\" alt=\"Open In Colab\"/></a>"
      ]
    },
    {
      "cell_type": "code",
      "source": [
        "#função que calcula o quadrado de um número\n",
        "def square(x):\n",
        "  return x*x\n",
        "  "
      ],
      "metadata": {
        "id": "vpLBuFjm9pqU"
      },
      "execution_count": 2,
      "outputs": []
    },
    {
      "cell_type": "code",
      "source": [
        "square(10)"
      ],
      "metadata": {
        "id": "n_nF7uLn9zFT",
        "outputId": "79805206-3e54-4cd7-a27e-c498e49bd688",
        "colab": {
          "base_uri": "https://localhost:8080/"
        }
      },
      "execution_count": 4,
      "outputs": [
        {
          "output_type": "execute_result",
          "data": {
            "text/plain": [
              "100"
            ]
          },
          "metadata": {},
          "execution_count": 4
        }
      ]
    },
    {
      "cell_type": "code",
      "source": [
        "# mesma função utilizando o conceito de fuções lambda\n",
        "square_lambda = lambda x: x * x\n"
      ],
      "metadata": {
        "id": "rHG6zBXY97R3"
      },
      "execution_count": 5,
      "outputs": []
    },
    {
      "cell_type": "code",
      "source": [
        "square_lambda(10)"
      ],
      "metadata": {
        "id": "0R259Evc-EHx",
        "outputId": "bb808e3e-9027-4957-bc05-286bbaad9e82",
        "colab": {
          "base_uri": "https://localhost:8080/"
        }
      },
      "execution_count": 6,
      "outputs": [
        {
          "output_type": "execute_result",
          "data": {
            "text/plain": [
              "100"
            ]
          },
          "metadata": {},
          "execution_count": 6
        }
      ]
    },
    {
      "cell_type": "code",
      "source": [
        "#Função que filtra uma lista e retorna somentes valores pares\n",
        "#tradicional\n",
        "def filtra_pares(numeros):\n",
        "  pares = []\n",
        "  for x in numeros:\n",
        "    if x % 2 == 0:\n",
        "      pares.append(x)\n",
        "  return pares"
      ],
      "metadata": {
        "id": "iyZ0YCzS-W2c"
      },
      "execution_count": 9,
      "outputs": []
    },
    {
      "cell_type": "code",
      "source": [
        "numeros = [0, 1, 2, 3, 4, 5, 6, 7]\n",
        "filtra_pares(numeros)"
      ],
      "metadata": {
        "id": "0muCI_lf-3Dd",
        "outputId": "aed5009d-c2d7-44c6-a6b5-a7ca4a986a7f",
        "colab": {
          "base_uri": "https://localhost:8080/"
        }
      },
      "execution_count": 10,
      "outputs": [
        {
          "output_type": "execute_result",
          "data": {
            "text/plain": [
              "[0, 2, 4, 6]"
            ]
          },
          "metadata": {},
          "execution_count": 10
        }
      ]
    },
    {
      "cell_type": "code",
      "source": [
        "#Utilizando função lambda\n",
        "pares = list(filter(lambda x: x % 2 == 0, numeros))\n",
        "pares\n",
        "\n"
      ],
      "metadata": {
        "id": "_la398wP_Mz-",
        "outputId": "12636921-2b6c-4f39-9939-c64b84f437d5",
        "colab": {
          "base_uri": "https://localhost:8080/"
        }
      },
      "execution_count": 12,
      "outputs": [
        {
          "output_type": "execute_result",
          "data": {
            "text/plain": [
              "[0, 2, 4, 6]"
            ]
          },
          "metadata": {},
          "execution_count": 12
        }
      ]
    },
    {
      "cell_type": "code",
      "source": [
        "quadrado = list(map(lambda x: x * x, numeros))\n"
      ],
      "metadata": {
        "id": "_lz2TvloAZGD"
      },
      "execution_count": 15,
      "outputs": []
    },
    {
      "cell_type": "code",
      "source": [
        "quadrado"
      ],
      "metadata": {
        "id": "uM09MS0aBHfA",
        "outputId": "9c001134-aa59-46b5-dd6c-eeb343ba680f",
        "colab": {
          "base_uri": "https://localhost:8080/"
        }
      },
      "execution_count": 14,
      "outputs": [
        {
          "output_type": "execute_result",
          "data": {
            "text/plain": [
              "[0, 1, 4, 9, 16, 25, 36, 49]"
            ]
          },
          "metadata": {},
          "execution_count": 14
        }
      ]
    },
    {
      "cell_type": "code",
      "source": [
        "class Person:\n",
        "  #Construtor da classe\n",
        "  def __init__(self, name, age):\n",
        "    self.name = name\n",
        "    self.age = age\n",
        "    \n",
        "#Método que formata o print do objeto\n",
        "  def __str__(self):\n",
        "    return f'Name: {self.name} Age: {self.age}'"
      ],
      "metadata": {
        "id": "kYX8rc4ABw5W"
      },
      "execution_count": 19,
      "outputs": []
    },
    {
      "cell_type": "code",
      "source": [
        "print(Person(\"Vinicius\" , 19))\n"
      ],
      "metadata": {
        "id": "umGY3xZbCEdy",
        "outputId": "7ee64b06-ac31-40fe-faec-fc250d8c3e79",
        "colab": {
          "base_uri": "https://localhost:8080/"
        }
      },
      "execution_count": 20,
      "outputs": [
        {
          "output_type": "stream",
          "name": "stdout",
          "text": [
            "Name: Vinicius Age: 19\n"
          ]
        }
      ]
    },
    {
      "cell_type": "code",
      "source": [
        "#Cria lista com 3 pessoas \n",
        "pessoas = [Person(\"Vinicius\" , 19), Person(\"Leonardo\", 24), Person(\"Pedro\", 20)]"
      ],
      "metadata": {
        "id": "JVb7t6F1DBh6"
      },
      "execution_count": 21,
      "outputs": []
    },
    {
      "cell_type": "code",
      "source": [
        "for p in pessoas:\n",
        "  print(p)"
      ],
      "metadata": {
        "id": "hXaiv6zVDbRo",
        "outputId": "48be6fb4-f9a2-4485-b499-e42cf384039f",
        "colab": {
          "base_uri": "https://localhost:8080/"
        }
      },
      "execution_count": 23,
      "outputs": [
        {
          "output_type": "stream",
          "name": "stdout",
          "text": [
            "Name: Vinicius Age: 19\n",
            "Name: Leonardo Age: 24\n",
            "Name: Pedro Age: 20\n"
          ]
        }
      ]
    },
    {
      "cell_type": "code",
      "source": [
        "#Incrementa em 1 a idade de todas as pessoas da lista\n",
        "pessoas = list(map(lambda p: Person(p.name, p.age + 1), pessoas))\n",
        "for p in pessoas:\n",
        "  print(p)"
      ],
      "metadata": {
        "id": "QN2xcTlzDk66"
      },
      "execution_count": null,
      "outputs": []
    },
    {
      "cell_type": "code",
      "source": [
        "#Retorna somente a pessoas com idade maior que 20 anos\n",
        "maiores = list(filter(lambda p: p.age > 20, pessoas))\n",
        "for p in maiores:\n",
        "  print(p)"
      ],
      "metadata": {
        "id": "bftxBy-xEb2c",
        "outputId": "b8faa945-85fa-41f8-c0d6-7ba265e0357e",
        "colab": {
          "base_uri": "https://localhost:8080/"
        }
      },
      "execution_count": 27,
      "outputs": [
        {
          "output_type": "stream",
          "name": "stdout",
          "text": [
            "Name: Leonardo Age: 25\n",
            "Name: Pedro Age: 21\n"
          ]
        }
      ]
    },
    {
      "cell_type": "code",
      "source": [
        "#soma a idade de todos as pessoas\n",
        "from functools import reduce\n",
        "soma_idade = reduce(lambda x,y: x + y, map(lambda x: x.age, pessoas))\n",
        "soma_idade\n"
      ],
      "metadata": {
        "id": "Wynwa6FKFGNU",
        "outputId": "958a09da-05f7-4891-d5fe-5cebdb16fe59",
        "colab": {
          "base_uri": "https://localhost:8080/"
        }
      },
      "execution_count": 31,
      "outputs": [
        {
          "output_type": "execute_result",
          "data": {
            "text/plain": [
              "46"
            ]
          },
          "metadata": {},
          "execution_count": 31
        }
      ]
    },
    {
      "cell_type": "code",
      "source": [
        "#Retornar a maior idade\n",
        "maior_idade = reduce(lambda x,y : x if x > y  else y, map(lambda x: x.age, pessoas))\n",
        "maior_idade"
      ],
      "metadata": {
        "id": "IByuGoknGQ4V",
        "outputId": "0df602a4-ab7b-44a7-96c3-c01a594df5ac",
        "colab": {
          "base_uri": "https://localhost:8080/"
        }
      },
      "execution_count": 34,
      "outputs": [
        {
          "output_type": "execute_result",
          "data": {
            "text/plain": [
              "25"
            ]
          },
          "metadata": {},
          "execution_count": 34
        }
      ]
    },
    {
      "cell_type": "markdown",
      "source": [
        "INSTALAÇÃO DO PYSPARK"
      ],
      "metadata": {
        "id": "eZgAbdYfS2nq"
      }
    },
    {
      "cell_type": "code",
      "source": [
        "!pip install pyspark"
      ],
      "metadata": {
        "id": "6_7dneggSnXW",
        "outputId": "9f02ca54-fad0-42ee-dcfb-22bd276af94b",
        "colab": {
          "base_uri": "https://localhost:8080/"
        }
      },
      "execution_count": 35,
      "outputs": [
        {
          "output_type": "stream",
          "name": "stdout",
          "text": [
            "Looking in indexes: https://pypi.org/simple, https://us-python.pkg.dev/colab-wheels/public/simple/\n",
            "Collecting pyspark\n",
            "  Downloading pyspark-3.3.0.tar.gz (281.3 MB)\n",
            "\u001b[K     |████████████████████████████████| 281.3 MB 48 kB/s \n",
            "\u001b[?25hCollecting py4j==0.10.9.5\n",
            "  Downloading py4j-0.10.9.5-py2.py3-none-any.whl (199 kB)\n",
            "\u001b[K     |████████████████████████████████| 199 kB 50.0 MB/s \n",
            "\u001b[?25hBuilding wheels for collected packages: pyspark\n",
            "  Building wheel for pyspark (setup.py) ... \u001b[?25l\u001b[?25hdone\n",
            "  Created wheel for pyspark: filename=pyspark-3.3.0-py2.py3-none-any.whl size=281764026 sha256=abea3fb7a7fdbd6a8d3e52727a0bcdcb79deb361fc25cfa66d582dec5e07f850\n",
            "  Stored in directory: /root/.cache/pip/wheels/7a/8e/1b/f73a52650d2e5f337708d9f6a1750d451a7349a867f928b885\n",
            "Successfully built pyspark\n",
            "Installing collected packages: py4j, pyspark\n",
            "Successfully installed py4j-0.10.9.5 pyspark-3.3.0\n"
          ]
        }
      ]
    },
    {
      "cell_type": "code",
      "source": [
        "#Importar bibliotecas\n",
        "import pyspark\n",
        "from pyspark.sql import SparkSession"
      ],
      "metadata": {
        "id": "vgHym8tyTtBK"
      },
      "execution_count": 38,
      "outputs": []
    },
    {
      "cell_type": "code",
      "source": [
        "#Criação de uma sessão Spark(caso ela não exista) ou recuperação de uma \n",
        "#sessão existente com o mesmo nome\n",
        "spark = SparkSession.builder.appName(\"Word Count\").master('local[*]').getOrCreate()"
      ],
      "metadata": {
        "id": "2MOsvNaAUb-X"
      },
      "execution_count": 39,
      "outputs": []
    },
    {
      "cell_type": "code",
      "source": [
        "#Criação do contexto\n",
        "sc = spark.sparkContext"
      ],
      "metadata": {
        "id": "DWBdgP4gVYf-"
      },
      "execution_count": 40,
      "outputs": []
    },
    {
      "cell_type": "code",
      "source": [
        "#Criação de um RDD que carrega o arquivo Seinfeld.txt\n",
        "rdd = sc.textFile(\"/content/sample_data/Seinfeld.txt\")"
      ],
      "metadata": {
        "id": "eoGxtCdLVgta"
      },
      "execution_count": 63,
      "outputs": []
    },
    {
      "cell_type": "code",
      "source": [
        "#Visualizar um rdd\n",
        "rdd.collect()"
      ],
      "metadata": {
        "id": "hLKsd55YVxLo"
      },
      "execution_count": null,
      "outputs": []
    },
    {
      "cell_type": "code",
      "source": [
        "lista = rdd.collect()"
      ],
      "metadata": {
        "id": "H6zgbYtFWY-W"
      },
      "execution_count": 65,
      "outputs": []
    },
    {
      "cell_type": "code",
      "source": [
        "lista[30]"
      ],
      "metadata": {
        "id": "CMLYaOUNWd9q"
      },
      "execution_count": null,
      "outputs": []
    },
    {
      "cell_type": "code",
      "source": [
        "#Transformar cada linha(i.e., cada item da lista) em um conjunto de palavras\n",
        "#a partir do split do texto em espaço\n",
        "palavras = rdd.flatMap(lambda x: x.split(\" \"))\n",
        "\n",
        "#mostrar os primeiros N items\n",
        "palavras.take(30)"
      ],
      "metadata": {
        "id": "OQrWron7WgLh"
      },
      "execution_count": null,
      "outputs": []
    },
    {
      "cell_type": "code",
      "source": [
        "palavras = rdd.flatMap(lambda x: x.lower().replace(\".\", \"\").replace(\"(\",\"\").replace(\")\",\"\").split(\" \"))\n",
        "palavras.take(30)"
      ],
      "metadata": {
        "id": "fAt4BLCYYXaD",
        "outputId": "1f232e57-8f93-4cb7-bf08-707fb8167021",
        "colab": {
          "base_uri": "https://localhost:8080/"
        }
      },
      "execution_count": 78,
      "outputs": [
        {
          "output_type": "execute_result",
          "data": {
            "text/plain": [
              "['int',\n",
              " 'comedy',\n",
              " 'club',\n",
              " '–',\n",
              " 'night',\n",
              " 'jerry',\n",
              " 'is',\n",
              " 'on',\n",
              " 'stage,',\n",
              " 'performing',\n",
              " 'jerry:',\n",
              " 'do',\n",
              " 'you',\n",
              " 'know',\n",
              " 'what',\n",
              " 'this',\n",
              " 'is',\n",
              " 'all',\n",
              " 'about?',\n",
              " 'do',\n",
              " 'you',\n",
              " 'know,',\n",
              " 'why',\n",
              " \"we're\",\n",
              " 'here?',\n",
              " 'to',\n",
              " 'be',\n",
              " 'out,',\n",
              " 'this',\n",
              " 'is']"
            ]
          },
          "metadata": {},
          "execution_count": 78
        }
      ]
    },
    {
      "cell_type": "code",
      "source": [
        "palavras.count()"
      ],
      "metadata": {
        "id": "0P4FduxFZTi9",
        "outputId": "230d8266-41e6-4e11-c86e-d313bdf071a9",
        "colab": {
          "base_uri": "https://localhost:8080/"
        }
      },
      "execution_count": 79,
      "outputs": [
        {
          "output_type": "execute_result",
          "data": {
            "text/plain": [
              "723895"
            ]
          },
          "metadata": {},
          "execution_count": 79
        }
      ]
    },
    {
      "cell_type": "code",
      "source": [
        "#Remover itens vazios\n",
        "palavras = palavras.filter(lambda x:x!=\"\")\n",
        "palavras.count()"
      ],
      "metadata": {
        "id": "Zm4VGOFLZ1SL",
        "outputId": "fb0fe967-b88d-4407-dfee-85f1c322d9a9",
        "colab": {
          "base_uri": "https://localhost:8080/"
        }
      },
      "execution_count": 80,
      "outputs": [
        {
          "output_type": "execute_result",
          "data": {
            "text/plain": [
              "722738"
            ]
          },
          "metadata": {},
          "execution_count": 80
        }
      ]
    },
    {
      "cell_type": "code",
      "source": [
        "#Contar o número de ocorrências de cada palavra\n",
        "contagem = palavras.countByValue()\n",
        "contagem"
      ],
      "metadata": {
        "id": "gdDg-A7oaVm8"
      },
      "execution_count": null,
      "outputs": []
    },
    {
      "cell_type": "code",
      "source": [
        "#Imprimir as palavras e contagem de maneira ordenada\n",
        "for p, c in sorted(contagem.items()):\n",
        "  print(f\"{p}: {c}\")"
      ],
      "metadata": {
        "id": "TESsSqP3arul"
      },
      "execution_count": null,
      "outputs": []
    },
    {
      "cell_type": "markdown",
      "source": [
        "ATIVIDADE - US AIRPORTS\n",
        "Contagem do número de aeroportos dos USA\n"
      ],
      "metadata": {
        "id": "UVxohdHhbYc7"
      }
    },
    {
      "cell_type": "code",
      "source": [
        "rdd = sc.textFile(\"/content/sample_data/Airports.csv\")\n",
        "rdd.take(5)"
      ],
      "metadata": {
        "id": "53xE9Gxubcbh"
      },
      "execution_count": null,
      "outputs": []
    },
    {
      "cell_type": "code",
      "source": [
        "#Ignorar o cabeçalho\n",
        "rdd = rdd.filter(lambda x: x.split(\",\")[0]!='icao_code')\n",
        "rdd.take(5)"
      ],
      "metadata": {
        "id": "pnLtgODDb3yv"
      },
      "execution_count": null,
      "outputs": []
    },
    {
      "cell_type": "code",
      "source": [
        "#Seleciona as linhas que possuem USA na coluna D\n",
        "rdd_usa = rdd.filter(lambda x: x.split(\",\")[4]==\"USA\")\n",
        "rdd_usa.take(5)"
      ],
      "metadata": {
        "id": "lf2_rFGDc17n",
        "outputId": "a4e94018-4dca-4da2-cd83-84509ebd11be",
        "colab": {
          "base_uri": "https://localhost:8080/"
        }
      },
      "execution_count": 87,
      "outputs": [
        {
          "output_type": "execute_result",
          "data": {
            "text/plain": [
              "['KABI,ABI,ABILENE RGNL,ABILENE,USA,32,24,40,N,99,40,54,W,546,32.411,-99.682,3381',\n",
              " 'KABQ,ABQ,N/A,ALBUQUERQUE,USA,0,0,0,U,0,0,0,U,0,0,0,3382',\n",
              " 'KACK,ACK,NANTUCKET MEM,NANTUCKET,USA,41,15,10,N,70,3,36,W,15,41.253,-70.06,3383',\n",
              " 'KACT,ACT,WACO RGNL,WACO,USA,31,36,40,N,97,13,49,W,158,31.611,-97.23,3384',\n",
              " 'KACY,ACY,ATLANTIC CITY INTERNATIONAL,ATLANTIC CITY,USA,39,27,27,N,74,34,37,W,23,39.458,-74.577,3385']"
            ]
          },
          "metadata": {},
          "execution_count": 87
        }
      ]
    },
    {
      "cell_type": "code",
      "source": [
        "rdd_usa.count()"
      ],
      "metadata": {
        "id": "It5-TuQmdbLH",
        "outputId": "7ae55879-0f27-4895-f032-1eaf2fd19193",
        "colab": {
          "base_uri": "https://localhost:8080/"
        }
      },
      "execution_count": 88,
      "outputs": [
        {
          "output_type": "execute_result",
          "data": {
            "text/plain": [
              "552"
            ]
          },
          "metadata": {},
          "execution_count": 88
        }
      ]
    },
    {
      "cell_type": "code",
      "source": [
        "rdd_usa.coalesce(1).saveAsTextFile('RDD_USA_unique.txt')"
      ],
      "metadata": {
        "id": "VWq3U6K8deoN"
      },
      "execution_count": 91,
      "outputs": []
    }
  ],
  "metadata": {
    "colab": {
      "collapsed_sections": [],
      "name": "Olá, este é o Colaboratory",
      "provenance": [],
      "include_colab_link": true
    },
    "kernelspec": {
      "display_name": "Python 3",
      "name": "python3"
    }
  },
  "nbformat": 4,
  "nbformat_minor": 0
}