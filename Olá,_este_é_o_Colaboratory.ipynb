{
  "cells": [
    {
      "cell_type": "markdown",
      "metadata": {
        "id": "view-in-github",
        "colab_type": "text"
      },
      "source": [
        "<a href=\"https://colab.research.google.com/github/ViniciusNogozzeky/BigDataAulas/blob/semana15-spark/Ol%C3%A1%2C_este_%C3%A9_o_Colaboratory.ipynb\" target=\"_parent\"><img src=\"https://colab.research.google.com/assets/colab-badge.svg\" alt=\"Open In Colab\"/></a>"
      ]
    },
    {
      "cell_type": "code",
      "source": [
        "!pip install pyspark\n"
      ],
      "metadata": {
        "id": "O0uDNj1PB6ky",
        "outputId": "a0ddd578-5339-4104-a81e-88e5860703ff",
        "colab": {
          "base_uri": "https://localhost:8080/"
        }
      },
      "execution_count": 23,
      "outputs": [
        {
          "output_type": "stream",
          "name": "stdout",
          "text": [
            "Looking in indexes: https://pypi.org/simple, https://us-python.pkg.dev/colab-wheels/public/simple/\n",
            "Requirement already satisfied: pyspark in /usr/local/lib/python3.7/dist-packages (3.3.1)\n",
            "Requirement already satisfied: py4j==0.10.9.5 in /usr/local/lib/python3.7/dist-packages (from pyspark) (0.10.9.5)\n"
          ]
        }
      ]
    },
    {
      "cell_type": "code",
      "source": [
        "import pyspark \n",
        "from pyspark.sql import SparkSession"
      ],
      "metadata": {
        "id": "C54vKtNuCII5"
      },
      "execution_count": 24,
      "outputs": []
    },
    {
      "cell_type": "code",
      "source": [
        "#Criação de uma sessão Spark(caso ela não exista) ou recuperação de uma \n",
        "#sessão existente com o mesmo nome\n",
        "spark = SparkSession.builder.appName(\"RealState session\").master('local[*]').getOrCreate()\n",
        "#Criação do contexto\n",
        "sc = spark.sparkContext"
      ],
      "metadata": {
        "id": "OU2kvyCICQcf"
      },
      "execution_count": 40,
      "outputs": []
    },
    {
      "cell_type": "code",
      "source": [
        "#Criação de um RDD que carrega o arquivo RealState\n",
        "rdd = sc.textFile(\"RealEstate.csv\")"
      ],
      "metadata": {
        "id": "KhCvUYFzD7lN"
      },
      "execution_count": 41,
      "outputs": []
    },
    {
      "cell_type": "code",
      "source": [
        "#Ignorar o cabeçalho\n",
        "rdd = rdd.filter(lambda x:x.split(\",\")[0]!=\"MLS\")\n",
        "rdd.take(5)"
      ],
      "metadata": {
        "id": "H_p7eqfxD9jT"
      },
      "execution_count": null,
      "outputs": []
    },
    {
      "cell_type": "code",
      "source": [
        "#\n",
        "pairRdd = rdd.map(lambda x: (int(x.split(\",\")[3]),(float(x.split(\",\")[2]), 1)))\n",
        "pairRdd.take(5)"
      ],
      "metadata": {
        "id": "sEbmQEY6LlC2"
      },
      "execution_count": null,
      "outputs": []
    },
    {
      "cell_type": "code",
      "source": [
        "#Juntar todos os números dos quartos juntos para conseguir fazer a media\n",
        "pairRdd_sum = pairRdd.reduceByKey(lambda x,y:(x[0]+y[0], x[1]+y[1]))\n",
        "pairRdd_sum.take(5)"
      ],
      "metadata": {
        "id": "TMHKg0I3nM1J"
      },
      "execution_count": null,
      "outputs": []
    },
    {
      "cell_type": "code",
      "source": [
        "#Calcular a media(soma dos precos/qtde de casas)\n",
        "pairRdd_media = pairRdd_sum.mapValues(lambda x: x[0]/x[1])\n",
        "pairRdd_media.take(5)"
      ],
      "metadata": {
        "id": "zPW0RmEMs46j"
      },
      "execution_count": null,
      "outputs": []
    },
    {
      "cell_type": "code",
      "source": [
        "#Ordenar a saida de maneira crescente de acordo com o nro_rooms\n",
        "pairRdd_media_sorted = pairRdd_media.sortByKey(ascending=True)\n",
        "pairRdd_media_sorted.collect()"
      ],
      "metadata": {
        "id": "1MxyixEXt2gh"
      },
      "execution_count": null,
      "outputs": []
    },
    {
      "cell_type": "code",
      "source": [
        "pairRdd_media_sorted.coalesce(1).saveAsTextFile(\"RealStateAtividade.txt\")"
      ],
      "metadata": {
        "id": "uS0yds2Su4BN"
      },
      "execution_count": 79,
      "outputs": []
    },
    {
      "cell_type": "markdown",
      "source": [
        "ATIVIDADE WORDCOUNT USANDO O SEINFELD.TXT\n"
      ],
      "metadata": {
        "id": "TkVpJJfgeg0J"
      }
    },
    {
      "cell_type": "code",
      "source": [
        "#Criação de uma sessão Spark(caso ela não exista) ou recuperação de uma \n",
        "#sessão existente com o mesmo nome\n",
        "spark = SparkSession.builder.appName(\"Reimpleentação WordCount\").master('local[*]').getOrCreate()\n",
        "#Criação do contexto\n",
        "sc = spark.sparkContext"
      ],
      "metadata": {
        "id": "p9G5LHHDelVu"
      },
      "execution_count": 29,
      "outputs": []
    },
    {
      "cell_type": "code",
      "source": [
        "#Criação de um RDD que carrega o arquivo RealState\n",
        "rdd = sc.textFile(\"Seinfeld.txt\")\n",
        "rdd.take(5)"
      ],
      "metadata": {
        "id": "DXMxdKCcepWZ"
      },
      "execution_count": null,
      "outputs": []
    },
    {
      "cell_type": "code",
      "source": [
        "#Ignorar o cabeçalho\n",
        "rdd = rdd.filter(lambda x:x.split(\",\")[0]!=\"icao_code\")\n",
        "rdd.collect()"
      ],
      "metadata": {
        "id": "3DLT-U2mequA"
      },
      "execution_count": null,
      "outputs": []
    },
    {
      "cell_type": "code",
      "source": [
        "rdd_flat = rdd.flatMap(lambda x:x.lower().split(\" \"))\n",
        "rdd_flat.take(5)"
      ],
      "metadata": {
        "id": "42x8Xw8sfKLP"
      },
      "execution_count": null,
      "outputs": []
    },
    {
      "cell_type": "code",
      "source": [
        "#Criação de um pair RDD no formato (palavra, 1)\n",
        "PairRdd = rdd_flat.map(lambda x:(x,1))\n",
        "PairRdd.take(5)"
      ],
      "metadata": {
        "id": "UNG1EQ8FfYGM"
      },
      "execution_count": null,
      "outputs": []
    },
    {
      "cell_type": "code",
      "source": [
        "#somar as ocorrências por chave\n",
        "wordCount = PairRdd.reduceByKey(lambda x,y:x+y)\n",
        "wordCount.take(5)"
      ],
      "metadata": {
        "id": "CNEXznPGfnUG"
      },
      "execution_count": null,
      "outputs": []
    },
    {
      "cell_type": "code",
      "source": [
        "#Ordenar a palavra mais frequente para a menos frequente\n",
        "wordCount_sorted = wordCount.sortBy(lambda x:x[1], ascending = False)\n",
        "wordCount_sorted.take(5)"
      ],
      "metadata": {
        "id": "m-R5yu3fgTL3"
      },
      "execution_count": null,
      "outputs": []
    }
  ],
  "metadata": {
    "colab": {
      "collapsed_sections": [],
      "name": "Olá, este é o Colaboratory",
      "provenance": [],
      "include_colab_link": true
    },
    "kernelspec": {
      "display_name": "Python 3",
      "name": "python3"
    }
  },
  "nbformat": 4,
  "nbformat_minor": 0
}